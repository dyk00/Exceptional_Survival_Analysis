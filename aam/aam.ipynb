{
 "cells": [
  {
   "cell_type": "code",
   "execution_count": 1,
   "metadata": {},
   "outputs": [
    {
     "ename": "FileNotFoundError",
     "evalue": "[WinError 3] The system cannot find the path specified: '/home/u839129/'",
     "output_type": "error",
     "traceback": [
      "\u001b[1;31m---------------------------------------------------------------------------\u001b[0m",
      "\u001b[1;31mFileNotFoundError\u001b[0m                         Traceback (most recent call last)",
      "Cell \u001b[1;32mIn[1], line 8\u001b[0m\n\u001b[0;32m      5\u001b[0m default_dir \u001b[39m=\u001b[39m \u001b[39m'\u001b[39m\u001b[39m/home/u839129/\u001b[39m\u001b[39m'\u001b[39m\n\u001b[0;32m      7\u001b[0m \u001b[39mif\u001b[39;00m os\u001b[39m.\u001b[39mgetcwd() \u001b[39m!=\u001b[39m default_dir:\n\u001b[1;32m----> 8\u001b[0m     os\u001b[39m.\u001b[39;49mchdir(default_dir)\n\u001b[0;32m     10\u001b[0m \u001b[39m# read parquet files into dataframes\u001b[39;00m\n\u001b[0;32m     11\u001b[0m \u001b[39m# data = pd.read_parquet('escobar-working-area/Analytical-Zone/episodes_v11122023.parquet')\u001b[39;00m\n\u001b[0;32m     13\u001b[0m data \u001b[39m=\u001b[39m pd\u001b[39m.\u001b[39mread_parquet(\u001b[39m\"\u001b[39m\u001b[39mescobar-working-area/Dayeong/data_aam/data_aam.parquet\u001b[39m\u001b[39m\"\u001b[39m)\n",
      "\u001b[1;31mFileNotFoundError\u001b[0m: [WinError 3] The system cannot find the path specified: '/home/u839129/'"
     ]
    }
   ],
   "source": [
    "import os\n",
    "import pandas as pd\n",
    "\n",
    "# change current working directory\n",
    "default_dir = '..'\n",
    "\n",
    "if os.getcwd() != default_dir:\n",
    "    os.chdir(default_dir)\n",
    "\n",
    "data = pd.read_parquet(\"..\")\n",
    "\n",
    "pd.set_option('display.max_columns', None)\n",
    "# data.head(10)\n",
    "\n",
    "# research/models/AAM_model"
   ]
  },
  {
   "cell_type": "code",
   "execution_count": 2,
   "metadata": {},
   "outputs": [
    {
     "name": "stdout",
     "output_type": "stream",
     "text": [
      "['TEMP', 'TEMP_I', 'HRTRT', 'HRTRT_I', 'RSPRT', 'RSPRT_I', 'RSPRT_W', 'BPSYS', 'BPDIA', 'SAT', 'SAT_I', 'SAT_W', 'AVPU', 'SHOCKINDEX', 'ANIONGAP', 'BICARB', 'GLUCOSE', 'HEMAT', 'LACT', 'BUN', 'CREAT', 'TROP', 'PML', 'BIL', 'ALB', 'PAC', 'PAO', 'PH']\n"
     ]
    }
   ],
   "source": [
    "# drop vars with missing values. will replace with new columns\n",
    "na = data.columns[data.isna().any()].tolist()\n",
    "print(na)"
   ]
  },
  {
   "cell_type": "code",
   "execution_count": 3,
   "metadata": {},
   "outputs": [],
   "source": [
    "data = data.drop(columns=na)"
   ]
  },
  {
   "cell_type": "code",
   "execution_count": 4,
   "metadata": {},
   "outputs": [
    {
     "data": {
      "text/plain": [
       "['index',\n",
       " 'DateTime',\n",
       " 'AdmissionID',\n",
       " 'PatientID',\n",
       " 'ELOS',\n",
       " 'AGE',\n",
       " 'SEX',\n",
       " 'ADMIT1',\n",
       " 'ADMIT2',\n",
       " 'ADMIT3',\n",
       " 'ADMIT4',\n",
       " 'SEASON1',\n",
       " 'SEASON2',\n",
       " 'SEASON3',\n",
       " 'DAYTIME1',\n",
       " 'DAYTIME2',\n",
       " 'DAYTIME3',\n",
       " 'DAYTIME4',\n",
       " 'CARE_ORDERDNR',\n",
       " 'CARE_ORDERFULL_CODE',\n",
       " 'CARE_ORDERPARTIAL',\n",
       " 'BPSYS_I',\n",
       " 'SODIUM',\n",
       " 'WBC',\n",
       " 'MISS_TROP',\n",
       " 'LAPS2',\n",
       " 'LAPS2_HET',\n",
       " 'ELOSLAPS2',\n",
       " 'OXY_SUP',\n",
       " 'I_OR_ACUTE',\n",
       " 'I_OR_ELECTIVE',\n",
       " 'I_OR_UNKNOWN',\n",
       " 'I_IC',\n",
       " 'I_EVENT',\n",
       " 'I_EVENT_V2',\n",
       " 'I_PRE',\n",
       " 'I_PRE_V2',\n",
       " 'EID',\n",
       " 'AAM',\n",
       " 'ANIONGAP',\n",
       " 'BICARB',\n",
       " 'BPDIA',\n",
       " 'BPSYS',\n",
       " 'GLUCOSE',\n",
       " 'HEMAT',\n",
       " 'HRTRT',\n",
       " 'LACT',\n",
       " 'LBUN',\n",
       " 'LCREAT',\n",
       " 'LELOS',\n",
       " 'LELOSLAPS2',\n",
       " 'LHRTRT_I',\n",
       " 'LSAT_I',\n",
       " 'LOGIT_AGE',\n",
       " 'LOGIT_SAT',\n",
       " 'LOGIT_SAT_W',\n",
       " 'RSPRT_I',\n",
       " 'LTEMP_I',\n",
       " 'PML',\n",
       " 'RSPRT',\n",
       " 'RSPRT_W',\n",
       " 'SHOCK',\n",
       " 'TEMP',\n",
       " 'TROP']"
      ]
     },
     "execution_count": 4,
     "metadata": {},
     "output_type": "execute_result"
    }
   ],
   "source": [
    "# replace by renaming the new columns\n",
    "for col in [c for c in data.columns if c.endswith('_1')]:\n",
    "    origin_col = col[:-2]\n",
    "    data[origin_col] = data[col]\n",
    "\n",
    "cols_to_drop = [c for c in data.columns if c.endswith('_1')]\n",
    "data.drop(columns=cols_to_drop, inplace=True)\n",
    "\n",
    "list(data.columns)"
   ]
  },
  {
   "cell_type": "code",
   "execution_count": 5,
   "metadata": {},
   "outputs": [
    {
     "name": "stdout",
     "output_type": "stream",
     "text": [
      "['index', 'DateTime', 'AdmissionID', 'PatientID', 'ELOS', 'AGE', 'SEX', 'ADMIT1', 'ADMIT2', 'ADMIT3', 'ADMIT4', 'SEASON1', 'SEASON2', 'SEASON3', 'DAYTIME1', 'DAYTIME2', 'DAYTIME3', 'DAYTIME4', 'CARE_ORDERDNR', 'CARE_ORDERFULL_CODE', 'CARE_ORDERPARTIAL', 'BPSYS_I', 'SODIUM', 'WBC', 'MISS_TROP', 'LAPS2', 'LAPS2_HET', 'ELOSLAPS2', 'OXY_SUP', 'I_OR_ACUTE', 'I_OR_ELECTIVE', 'I_OR_UNKNOWN', 'I_IC', 'I_EVENT', 'I_EVENT_V2', 'I_PRE', 'I_PRE_V2', 'EID', 'AAM', 'ANIONGAP', 'BICARB', 'BPDIA', 'BPSYS', 'GLUCOSE', 'HEMAT', 'HRTRT', 'RSPRT_I', 'PML', 'RSPRT', 'RSPRT_W', 'SHOCK', 'TEMP', 'TROP', 'ACT', 'BUN', 'CREAT', 'HRTRT_I', 'SAT_I', 'SAT', 'SAT_W', 'TEMP_I']\n"
     ]
    }
   ],
   "source": [
    "# rename the vars start with L or LOGIT_\n",
    "excl = ['LAPS2', 'LAPS2_HET']\n",
    "\n",
    "renamed = {}\n",
    "\n",
    "for col in data.columns:\n",
    "    if col in excl:\n",
    "        continue\n",
    "    if col.startswith('LOGIT_'):\n",
    "        new_name = col[len('LOGIT_'):]\n",
    "        renamed[col] = new_name\n",
    "    elif col.startswith('L'):\n",
    "        new_name = col[1:]\n",
    "        renamed[col] = new_name\n",
    "\n",
    "for old, new in renamed.items():\n",
    "    data[new] = data[old]\n",
    "\n",
    "data.drop(columns=list(renamed.keys()), inplace=True)\n",
    "\n",
    "print(list(data.columns))"
   ]
  },
  {
   "cell_type": "code",
   "execution_count": 6,
   "metadata": {},
   "outputs": [],
   "source": [
    "# OXY_SUP just being boolean value"
   ]
  },
  {
   "cell_type": "code",
   "execution_count": 7,
   "metadata": {},
   "outputs": [],
   "source": [
    "# drop unnecessary columns for training/target\n",
    "cols_to_drop = [\n",
    "# 'LAPS2_HET',\n",
    "    \n",
    "# # input so don't drop\n",
    "# 'LAPS2',\n",
    "# 'ELOSLAPS2',\n",
    "# 'ELOS'\n",
    "\n",
    "'I_EVENT',\n",
    "'I_EVENT_V2',\n",
    "'index',\n",
    "    \n",
    "# # can drop this before running emm\n",
    "# 'DateTime',\n",
    "# 'AdmissionID',\n",
    "# 'PatientID',\n",
    "# 'EID'\n",
    "]\n",
    "data = data.drop(columns=cols_to_drop)"
   ]
  },
  {
   "cell_type": "code",
   "execution_count": 9,
   "metadata": {},
   "outputs": [
    {
     "data": {
      "text/plain": [
       "AAM\n",
       "0.00     1\n",
       "0.00     1\n",
       "0.00     1\n",
       "0.00     1\n",
       "0.00     1\n",
       "        ..\n",
       "99.82    1\n",
       "99.82    1\n",
       "99.86    1\n",
       "99.91    1\n",
       "99.96    1\n",
       "Name: count, Length: 9649585, dtype: int64"
      ]
     },
     "execution_count": 9,
     "metadata": {},
     "output_type": "execute_result"
    }
   ],
   "source": [
    "pd.options.display.float_format = '{:.2f}'.format\n",
    "data['AAM'].value_counts().sort_index()"
   ]
  },
  {
   "cell_type": "code",
   "execution_count": 10,
   "metadata": {},
   "outputs": [
    {
     "data": {
      "text/plain": [
       "2.633271442606753e-12"
      ]
     },
     "execution_count": 10,
     "metadata": {},
     "output_type": "execute_result"
    }
   ],
   "source": [
    "data['AAM'].min()"
   ]
  },
  {
   "cell_type": "code",
   "execution_count": 11,
   "metadata": {},
   "outputs": [],
   "source": [
    "# # as the emm is fit into the survival probabilty, we use inverse of aam (kind of risk score)\n",
    "# # or -data['AAM']\n",
    "# data['AAM_INVERSE'] = -data['AAM']\n",
    "# data = data.drop(columns=['AAM'])"
   ]
  },
  {
   "cell_type": "code",
   "execution_count": 12,
   "metadata": {},
   "outputs": [],
   "source": [
    "# data['AAM_INVERSE'].value_counts().sort_index()"
   ]
  },
  {
   "cell_type": "code",
   "execution_count": 13,
   "metadata": {},
   "outputs": [],
   "source": [
    "data.to_parquet(\"escobar-working-area/Dayeong/data_aam/data_aam_cleaned.parquet\")"
   ]
  },
  {
   "cell_type": "code",
   "execution_count": 14,
   "metadata": {},
   "outputs": [
    {
     "data": {
      "text/plain": [
       "['DateTime',\n",
       " 'AdmissionID',\n",
       " 'PatientID',\n",
       " 'ELOS',\n",
       " 'AGE',\n",
       " 'SEX',\n",
       " 'ADMIT1',\n",
       " 'ADMIT2',\n",
       " 'ADMIT3',\n",
       " 'ADMIT4',\n",
       " 'SEASON1',\n",
       " 'SEASON2',\n",
       " 'SEASON3',\n",
       " 'DAYTIME1',\n",
       " 'DAYTIME2',\n",
       " 'DAYTIME3',\n",
       " 'DAYTIME4',\n",
       " 'CARE_ORDERDNR',\n",
       " 'CARE_ORDERFULL_CODE',\n",
       " 'CARE_ORDERPARTIAL',\n",
       " 'BPSYS_I',\n",
       " 'SODIUM',\n",
       " 'WBC',\n",
       " 'MISS_TROP',\n",
       " 'LAPS2',\n",
       " 'LAPS2_HET',\n",
       " 'ELOSLAPS2',\n",
       " 'OXY_SUP',\n",
       " 'I_OR_ACUTE',\n",
       " 'I_OR_ELECTIVE',\n",
       " 'I_OR_UNKNOWN',\n",
       " 'I_IC',\n",
       " 'I_PRE',\n",
       " 'I_PRE_V2',\n",
       " 'EID',\n",
       " 'AAM',\n",
       " 'ANIONGAP',\n",
       " 'BICARB',\n",
       " 'BPDIA',\n",
       " 'BPSYS',\n",
       " 'GLUCOSE',\n",
       " 'HEMAT',\n",
       " 'HRTRT',\n",
       " 'RSPRT_I',\n",
       " 'PML',\n",
       " 'RSPRT',\n",
       " 'RSPRT_W',\n",
       " 'SHOCK',\n",
       " 'TEMP',\n",
       " 'TROP',\n",
       " 'ACT',\n",
       " 'BUN',\n",
       " 'CREAT',\n",
       " 'HRTRT_I',\n",
       " 'SAT_I',\n",
       " 'SAT',\n",
       " 'SAT_W',\n",
       " 'TEMP_I']"
      ]
     },
     "execution_count": 14,
     "metadata": {},
     "output_type": "execute_result"
    }
   ],
   "source": [
    "list(data.columns)"
   ]
  },
  {
   "cell_type": "code",
   "execution_count": null,
   "metadata": {},
   "outputs": [],
   "source": []
  }
 ],
 "metadata": {
  "kernelspec": {
   "display_name": "Python 3.10.9 64-bit",
   "language": "python",
   "name": "python3"
  },
  "language_info": {
   "codemirror_mode": {
    "name": "ipython",
    "version": 3
   },
   "file_extension": ".py",
   "mimetype": "text/x-python",
   "name": "python",
   "nbconvert_exporter": "python",
   "pygments_lexer": "ipython3",
   "version": "3.10.9"
  },
  "vscode": {
   "interpreter": {
    "hash": "fce4fb90388deaf1bd48d5cd0085ba64bba4d4518b6644dfe47737140f7fef1b"
   }
  }
 },
 "nbformat": 4,
 "nbformat_minor": 4
}
