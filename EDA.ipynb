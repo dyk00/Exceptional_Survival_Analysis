{
 "cells": [
  {
   "cell_type": "markdown",
   "metadata": {
    "tags": []
   },
   "source": [
    "# Setup"
   ]
  },
  {
   "cell_type": "code",
   "execution_count": null,
   "metadata": {},
   "outputs": [],
   "source": [
    "import numpy as np\n",
    "import pandas as pd\n",
    "from ydata_profiling import ProfileReport\n",
    "import pyarrow as pa\n",
    "import fastparquet as fp\n",
    "import seaborn as sns\n",
    "import matplotlib.pyplot as plt\n",
    "import os\n",
    "\n",
    "# for jupyter notebook, this is necessary to show plots\n",
    "%matplotlib inline"
   ]
  },
  {
   "cell_type": "code",
   "execution_count": null,
   "metadata": {},
   "outputs": [],
   "source": [
    "# # this does not work as it is admin (root)\n",
    "# default_dir = '/bd-fs-mnt/'\n",
    "# print(os.getcwd())"
   ]
  },
  {
   "cell_type": "code",
   "execution_count": null,
   "metadata": {},
   "outputs": [],
   "source": [
    "# change current working directory\n",
    "default_dir = '..'\n",
    "\n",
    "if os.getcwd() != default_dir:\n",
    "    os.chdir(default_dir)"
   ]
  },
  {
   "cell_type": "code",
   "execution_count": null,
   "metadata": {},
   "outputs": [],
   "source": [
    "print(os.getcwd())"
   ]
  },
  {
   "cell_type": "code",
   "execution_count": null,
   "metadata": {},
   "outputs": [],
   "source": [
    "# initalize input directory\n",
    "input_dir = '..'\n",
    "\n",
    "# read parquet files into dataframes\n",
    "df_vitals = pd.read_parquet(input_dir + '/Vitals/')\n",
    "df_surgery = pd.read_parquet(input_dir + '/Surgery/')\n",
    "df_reanimatie = pd.read_parquet(input_dir + '/Reanimatiebeleid/')\n",
    "df_lab = pd.read_parquet(input_dir + '/Lab/')\n",
    "df_ic = pd.read_parquet(input_dir + '/IC_Opnames/')\n",
    "df_demo = pd.read_parquet(input_dir + '/Demographics/')\n",
    "\n",
    "# list of dataframes\n",
    "dataframes = [df_vitals, df_surgery, df_reanimatie, df_lab, df_ic, df_demo]"
   ]
  },
  {
   "cell_type": "code",
   "execution_count": null,
   "metadata": {},
   "outputs": [],
   "source": [
    "# print memory usage\n",
    "for df in dataframes:\n",
    "    # df.memory_usage() does not consider the size of objects when deep=False\n",
    "    memory = df.memory_usage(deep=True).sum() / (1024 ** 2)\n",
    "print(f\"Total memory usage: {memory} MB\")"
   ]
  },
  {
   "cell_type": "markdown",
   "metadata": {
    "tags": []
   },
   "source": [
    "# EDA using ydata profiling and extra code"
   ]
  },
  {
   "cell_type": "markdown",
   "metadata": {
    "tags": []
   },
   "source": [
    "We will explore each data in this section.    \n",
    "We first generate automated reports, verify some questions based on the report, and then execute extra codes"
   ]
  },
  {
   "cell_type": "code",
   "execution_count": null,
   "metadata": {},
   "outputs": [],
   "source": [
    "# initialize titles \n",
    "titles = [\"vitals\", \"surgery\", \"reanimatie\", \"lab\", \"ic_opnames\", \"demographics\"]\n",
    "\n",
    "# specify the output directory for saving html files\n",
    "output_dir = '..'\n",
    "\n",
    "# create the folder if not exist\n",
    "if not os.path.exists(output_dir):\n",
    "    os.makedirs(output_dir)\n",
    "\n",
    "# save report for each dataframe\n",
    "for df, title in zip(dataframes, titles):\n",
    "    output_path = os.path.join(output_dir, f\"{title}.html\")\n",
    "\n",
    "    # check if the file already exists\n",
    "    if not os.path.isfile(output_path):\n",
    "        try:\n",
    "            profile = ProfileReport(df, title=title, minimal=True)\n",
    "            profile.to_file(output_path)\n",
    "            \n",
    "        # skips if the data gives an error\n",
    "        except Exception as e:\n",
    "            print(f\"This data gives an error for {title}: {e}. Try EDA manually.\")\n",
    "            continue"
   ]
  },
  {
   "cell_type": "markdown",
   "metadata": {
    "tags": []
   },
   "source": [
    "## Vitals"
   ]
  },
  {
   "cell_type": "markdown",
   "metadata": {
    "tags": []
   },
   "source": [
    "### Verification for interesting parts based on the report"
   ]
  },
  {
   "cell_type": "markdown",
   "metadata": {
    "tags": []
   },
   "source": [
    "Q: Check whether the percentage of distinct patients, and opname is indeed low   \n",
    "A: Indeed low and matches to the report"
   ]
  },
  {
   "cell_type": "code",
   "execution_count": null,
   "metadata": {},
   "outputs": [],
   "source": [
    "print(f\"Numbers of distinct values: {df_vitals['PID'].nunique()}\")\n",
    "print(f\"Numbers of total values: {df_vitals['PID'].count()} \\n\")\n",
    "\n",
    "print(f\"Numbers of distinct values: {df_vitals['OpnameID'].nunique()}\")\n",
    "print(f\"Numbers of total values: {df_vitals['OpnameID'].count()}\")"
   ]
  },
  {
   "cell_type": "markdown",
   "metadata": {
    "tags": []
   },
   "source": [
    "Q: For each distinct PID, how many there would be?"
   ]
  },
  {
   "cell_type": "code",
   "execution_count": null,
   "metadata": {},
   "outputs": [],
   "source": [
    "print(df_vitals['PID'].value_counts().head(10))\n",
    "df_vitals[df_vitals['PID']=='..'].head(5)"
   ]
  },
  {
   "cell_type": "markdown",
   "metadata": {
    "tags": []
   },
   "source": [
    "Q: Check whether there are many measurements related to heart rates   \n",
    "A: Indeed"
   ]
  },
  {
   "cell_type": "code",
   "execution_count": null,
   "metadata": {},
   "outputs": [],
   "source": [
    "print(str(df_vitals.MetingOms.value_counts()) + \"\\n\")\n",
    "print(str(df_vitals.MetingEenheid.value_counts()) + \"\\n\")"
   ]
  },
  {
   "cell_type": "markdown",
   "metadata": {
    "tags": []
   },
   "source": [
    "MetingDatumTijd   \n",
    "Minimum: 2018-12-01 02:03:31   \n",
    "Maximum: 2023-02-01 20:24:00   "
   ]
  },
  {
   "cell_type": "code",
   "execution_count": null,
   "metadata": {},
   "outputs": [],
   "source": [
    "print(df_vitals['MetingDatumTijd'].sort_values())"
   ]
  },
  {
   "cell_type": "markdown",
   "metadata": {
    "tags": []
   },
   "source": [
    "Q: Check missing values per column. "
   ]
  },
  {
   "cell_type": "code",
   "execution_count": null,
   "metadata": {},
   "outputs": [],
   "source": [
    "print(df_vitals.isna().sum())"
   ]
  },
  {
   "cell_type": "markdown",
   "metadata": {
    "tags": []
   },
   "source": [
    "Q: Show rows that have missing values"
   ]
  },
  {
   "cell_type": "code",
   "execution_count": null,
   "metadata": {},
   "outputs": [],
   "source": [
    "df_vitals[df_vitals.isnull().any(axis=1)].head(5)"
   ]
  },
  {
   "cell_type": "markdown",
   "metadata": {
    "tags": []
   },
   "source": [
    "Q: Why there's a negative value? NIBP being negative is possible?  \n",
    "A: "
   ]
  },
  {
   "cell_type": "code",
   "execution_count": null,
   "metadata": {
    "tags": []
   },
   "outputs": [],
   "source": [
    "pd.set_option('display.float_format', '{:.1f}'.format)\n",
    "print(df_vitals['MeetWaarde3'].value_counts().sort_index())\n",
    "df_vitals[df_vitals['MeetWaarde3'] == -1.0]"
   ]
  },
  {
   "cell_type": "markdown",
   "metadata": {
    "tags": []
   },
   "source": [
    "Q: Why is maximum super high? NIBP being this high is possible?   \n",
    "A: "
   ]
  },
  {
   "cell_type": "code",
   "execution_count": null,
   "metadata": {},
   "outputs": [],
   "source": [
    "df_vitals[df_vitals['MeetWaarde3'] == 2147482624.0]"
   ]
  },
  {
   "cell_type": "markdown",
   "metadata": {
    "tags": []
   },
   "source": [
    "Q: Why many 'MeetWaarde's missing? (When do you measure only once, twice, three times? Does it makes sense for all Meting? How should I handle this missing values?     \n",
    "A: "
   ]
  },
  {
   "cell_type": "code",
   "execution_count": null,
   "metadata": {},
   "outputs": [],
   "source": [
    "df_vitals[df_vitals['MeetWaarde1'].isna()]"
   ]
  },
  {
   "cell_type": "code",
   "execution_count": null,
   "metadata": {},
   "outputs": [],
   "source": [
    "df_vitals[df_vitals['MeetWaarde3'].isna()]"
   ]
  },
  {
   "cell_type": "markdown",
   "metadata": {
    "tags": []
   },
   "source": [
    "Q: What's the zeros? do we actually have 0's? count 914266?   \n",
    "A: Yes"
   ]
  },
  {
   "cell_type": "code",
   "execution_count": null,
   "metadata": {},
   "outputs": [],
   "source": [
    "print((df_vitals['MeetWaarde1'] == 0).sum())\n",
    "df_vitals[df_vitals['MeetWaarde1'] == 0]"
   ]
  },
  {
   "cell_type": "markdown",
   "metadata": {
    "tags": []
   },
   "source": [
    "Q: Does it make sense that each Meting can be 0? If so/ If not, how should I handle this?   \n",
    "A: "
   ]
  },
  {
   "cell_type": "code",
   "execution_count": null,
   "metadata": {},
   "outputs": [],
   "source": [
    "filtered = df_vitals[df_vitals['MeetWaarde1'] == 0]\n",
    "filtered['Meting'].value_counts()"
   ]
  },
  {
   "cell_type": "markdown",
   "metadata": {
    "tags": []
   },
   "source": [
    "Q: Should we ignore the MeetOptie column? If not, what would they mean?   \n",
    "A:"
   ]
  },
  {
   "cell_type": "code",
   "execution_count": null,
   "metadata": {},
   "outputs": [],
   "source": [
    "df_vitals['MeetOptie'].unique().tolist()[:5]"
   ]
  },
  {
   "cell_type": "markdown",
   "metadata": {
    "tags": []
   },
   "source": [
    "### Extra"
   ]
  },
  {
   "cell_type": "code",
   "execution_count": null,
   "metadata": {},
   "outputs": [],
   "source": [
    "print(df_vitals.head(5))\n",
    "print(\"\\n\\n\")\n",
    "print(df_vitals.Meting.unique())\n",
    "print(\"\\n\\n\")\n",
    "print(df_vitals.info())\n",
    "print(\"\\n\\n\")\n",
    "print(df_vitals.describe())\n",
    "print(\"\\n\\n\")\n",
    "print('Data`s Shape: ', df_vitals.shape)\n",
    "print(\"\\n\\n\")\n",
    "print('\\nType of features \\n', df_vitals.dtypes.value_counts())\n",
    "print(\"\\n\\n\")\n",
    "isna_series = df_vitals.isna().sum()\n",
    "print('\\nNull columns and numbers:\\n ', isna_series[isna_series > 0].sort_values(ascending=False))"
   ]
  },
  {
   "cell_type": "markdown",
   "metadata": {
    "tags": []
   },
   "source": [
    "Boxplot for numerical variables"
   ]
  },
  {
   "cell_type": "code",
   "execution_count": null,
   "metadata": {},
   "outputs": [],
   "source": [
    "# TODO: dropped missing values for now. but may need correction later \n",
    "# Also this is just purely based on the values, each Meting type is not taken into account.\n",
    "numerical_vitals = df_vitals.select_dtypes(include=['number']).dropna()\n",
    "\n",
    "for col in numerical_vitals.columns:\n",
    "    plt.figure()\n",
    "    numerical_vitals.boxplot(column=col)\n",
    "    plt.title(f\"Boxplot of {col}\")\n",
    "    plt.ylabel('Values')\n",
    "    plt.show()"
   ]
  },
  {
   "cell_type": "markdown",
   "metadata": {
    "tags": []
   },
   "source": [
    "This is wrong conclusion. Ignore this.   \n",
    "Correlation and heatmap.   \n",
    "Conclusion: MeetWaarde1 (MW1) and MW2 show a moderately strong linear relationship (increase / decrease)   \n",
    "MW1 and MW3 do not show meaningful relationship.    \n",
    "Same for MW2 and MW3 "
   ]
  },
  {
   "cell_type": "code",
   "execution_count": null,
   "metadata": {},
   "outputs": [],
   "source": [
    "# # calculate the correlation matrix\n",
    "# # this is wrong correlation matrix, as some 'Meting' type only has MeetWaarde1\n",
    "# corr_matrix_vitals = numerical_vitals.corr()\n",
    "\n",
    "# # show a heatmap\n",
    "# plt.figure(figsize=(10, 8))\n",
    "# sns.heatmap(corr_matrix_vitals, annot=True)\n",
    "# plt.title(\"Correlation of Vitals\")\n",
    "# plt.show()"
   ]
  },
  {
   "cell_type": "markdown",
   "metadata": {
    "tags": []
   },
   "source": [
    "MeetWaarde values per each Meting   \n",
    "Q: Should I carry more tests like this (e.g. MeetWaarde / something) ?"
   ]
  },
  {
   "cell_type": "code",
   "execution_count": null,
   "metadata": {},
   "outputs": [],
   "source": [
    "MW1_per_meting = df_vitals.groupby('Meting')['MeetWaarde1'].agg(['mean', 'median', 'std', 'count'])\n",
    "MW1_per_meting"
   ]
  },
  {
   "cell_type": "code",
   "execution_count": null,
   "metadata": {},
   "outputs": [],
   "source": [
    "MW2_per_meting = df_vitals.groupby('Meting')['MeetWaarde2'].agg(['mean', 'median', 'std', 'count'])\n",
    "MW2_per_meting"
   ]
  },
  {
   "cell_type": "code",
   "execution_count": null,
   "metadata": {},
   "outputs": [],
   "source": [
    "MW3_per_meting = df_vitals.groupby('Meting')['MeetWaarde3'].agg(['mean', 'median', 'std', 'count'])\n",
    "MW3_per_meting\n",
    "\n",
    "# check missing values\n",
    "# m = df_vitals[df_vitals['MeetWaarde3'].notna()]\n",
    "# m['Meting'].value_counts()"
   ]
  },
  {
   "cell_type": "markdown",
   "metadata": {
    "tags": []
   },
   "source": [
    "### Per column, meaning of values (and how to handle missing values?)"
   ]
  },
  {
   "cell_type": "markdown",
   "metadata": {
    "tags": []
   },
   "source": [
    "Q: Meaning? "
   ]
  },
  {
   "cell_type": "code",
   "execution_count": null,
   "metadata": {},
   "outputs": [],
   "source": [
    "df_vitals['Meting'].value_counts()"
   ]
  },
  {
   "cell_type": "markdown",
   "metadata": {
    "tags": []
   },
   "source": [
    "Q: Hartritme only 3? Same as Heart Rate?"
   ]
  },
  {
   "cell_type": "code",
   "execution_count": null,
   "metadata": {},
   "outputs": [],
   "source": [
    "df_vitals['MetingOms'].value_counts()"
   ]
  },
  {
   "cell_type": "code",
   "execution_count": null,
   "metadata": {},
   "outputs": [],
   "source": [
    "df_vitals.loc[df_vitals['MetingOms'] == 'Hartritme']"
   ]
  },
  {
   "cell_type": "markdown",
   "metadata": {
    "tags": []
   },
   "source": [
    "Q: Empty metingeenheid? 1/min, bpm?"
   ]
  },
  {
   "cell_type": "code",
   "execution_count": null,
   "metadata": {},
   "outputs": [],
   "source": [
    "unique = df_vitals.groupby(['Meting', 'MetingEenheid', 'MetingOms']).size().reset_index(name='Counts')\n",
    "unique"
   ]
  },
  {
   "cell_type": "markdown",
   "metadata": {
    "tags": []
   },
   "source": [
    "## Surgery"
   ]
  },
  {
   "cell_type": "markdown",
   "metadata": {
    "tags": []
   },
   "source": [
    "### Verification for interesting parts based on the report"
   ]
  },
  {
   "cell_type": "markdown",
   "metadata": {
    "tags": []
   },
   "source": [
    "Q: Is OperatieID each surgery ID? Because they're all distinct   \n",
    "A:   \n",
    "\n",
    "Q: What was OK_BeginDatumTijd again?   \n",
    "A:   \n",
    "\n",
    "Q: Why some missing from OK_EindDatumTijd?   \n",
    "A:   \n",
    "\n",
    "Q: Should we ignore NaarAfedlingDatum? or OK_EindDatumTijd? Also why some missing in both?? Why distinct numbers are different between them?       \n",
    "A:   \n",
    "\n",
    "Q: HoofdverrichtingCode. Types of surgery/department. What does the number mean? Important? Why only number '332100'?   \n",
    "A:   \n",
    "\n",
    "Q: HoofdverrichtingOms important?   \n",
    "A:   \n",
    "\n",
    "Q: PrioriteitCode what does this mean? Do we want to include them, for what? I guess we can use PrioriteitCode instead of Oms.   \n",
    "A:   \n",
    "\n",
    "Q: PrioriteitOms meaning ?Do we want to include them?    \n",
    "A:   "
   ]
  },
  {
   "cell_type": "code",
   "execution_count": null,
   "metadata": {},
   "outputs": [],
   "source": [
    "df_surgery.loc[df_surgery['OK_EindDatumTijd'].isna()]"
   ]
  },
  {
   "cell_type": "code",
   "execution_count": null,
   "metadata": {},
   "outputs": [],
   "source": [
    "df_surgery['HoofdverrichtingCode'].value_counts()"
   ]
  },
  {
   "cell_type": "code",
   "execution_count": null,
   "metadata": {},
   "outputs": [],
   "source": [
    "df_surgery['HoofdverrichtingOms'].value_counts()"
   ]
  },
  {
   "cell_type": "code",
   "execution_count": null,
   "metadata": {},
   "outputs": [],
   "source": [
    "df_surgery['PrioriteitCode'].value_counts()"
   ]
  },
  {
   "cell_type": "code",
   "execution_count": null,
   "metadata": {},
   "outputs": [],
   "source": [
    "df_surgery['PrioriteitOms'].value_counts()"
   ]
  },
  {
   "cell_type": "markdown",
   "metadata": {
    "tags": []
   },
   "source": [
    "### Extra"
   ]
  },
  {
   "cell_type": "code",
   "execution_count": null,
   "metadata": {},
   "outputs": [],
   "source": [
    "print(df_surgery.head(5))\n",
    "print(\"\\n\\n\")\n",
    "print(df_surgery.HoofdverrichtingOms.unique())\n",
    "print(\"\\n\\n\")\n",
    "print(df_surgery.info())\n",
    "print(\"\\n\\n\")\n",
    "print(df_surgery.describe())\n",
    "print(\"\\n\\n\")\n",
    "print('Data`s Shape: ', df_surgery.shape)\n",
    "print(\"\\n\\n\")\n",
    "print('\\nType of features \\n', df_surgery.dtypes.value_counts())\n",
    "print(\"\\n\\n\")\n",
    "isna_series = df_surgery.isna().sum()\n",
    "print('\\nNull columns and numbers:\\n ', isna_series[isna_series > 0].sort_values(ascending=False))"
   ]
  },
  {
   "cell_type": "markdown",
   "metadata": {
    "tags": []
   },
   "source": [
    "### Per column, meaning of values (and how to handle missing values?)"
   ]
  },
  {
   "cell_type": "markdown",
   "metadata": {
    "tags": []
   },
   "source": [
    "Q: Meaning?"
   ]
  },
  {
   "cell_type": "code",
   "execution_count": null,
   "metadata": {},
   "outputs": [],
   "source": [
    "# show different codes with different length of the first item\n",
    "unique_codes = df_surgery['HoofdverrichtingCode'].unique().tolist()\n",
    "diff_codes = [code for code in unique_codes if len(code) != len(unique_codes[0])]\n",
    "print(diff_codes or \"All items have equal length.\")"
   ]
  },
  {
   "cell_type": "code",
   "execution_count": null,
   "metadata": {},
   "outputs": [],
   "source": [
    "unique = df_surgery.groupby(['HoofdverrichtingCode', 'HoofdverrichtingOms']).size().reset_index(name='Counts')[:5]\n",
    "unique"
   ]
  },
  {
   "cell_type": "markdown",
   "metadata": {
    "tags": []
   },
   "source": [
    "Q: What does this mean?"
   ]
  },
  {
   "cell_type": "code",
   "execution_count": null,
   "metadata": {},
   "outputs": [],
   "source": [
    "unique = df_surgery.groupby(['PrioriteitCode', 'PrioriteitOms']).size().reset_index(name='Counts')\n",
    "unique"
   ]
  },
  {
   "cell_type": "markdown",
   "metadata": {
    "tags": []
   },
   "source": [
    "## Reanimatiebeleid"
   ]
  },
  {
   "cell_type": "markdown",
   "metadata": {
    "tags": []
   },
   "source": [
    "### Verification for interesting parts based on the report"
   ]
  },
  {
   "cell_type": "markdown",
   "metadata": {
    "tags": []
   },
   "source": [
    "Q: Opname ID isn't fully distinct   \n",
    "A: Several attempts for a same patient on different dates. But is PID unique on its own (regardless of distinct)?  \n",
    "\n",
    "Q: What's Gekozen_beleid?   \n",
    "A:   \n",
    "\n",
    "Q: Why so many missing in 'Reanimeren'? And what's 'niet beslist'?   \n",
    "A:   \n",
    "\n",
    "Q: What's 'Care_order'?   \n",
    "A:   \n",
    "\n",
    "Q: What's VanafDatum?   \n",
    "A:   \n",
    "\n",
    "Q: What's TmDatum?   \n",
    "A:   \n",
    "\n",
    "Q: Why TmDatum minimum looks weird? Minimum    1816-03-30 05:55:08.066277    \n",
    "A:   "
   ]
  },
  {
   "cell_type": "code",
   "execution_count": null,
   "metadata": {},
   "outputs": [],
   "source": [
    "# mark all duplicated OpnameID\n",
    "df_reanimatie[df_reanimatie['OpnameID'].duplicated(keep=False)]"
   ]
  },
  {
   "cell_type": "code",
   "execution_count": null,
   "metadata": {},
   "outputs": [],
   "source": [
    "df_reanimatie['Gekozen_beleid'].value_counts()"
   ]
  },
  {
   "cell_type": "code",
   "execution_count": null,
   "metadata": {},
   "outputs": [],
   "source": [
    "df_reanimatie.loc[df_reanimatie['Reanimeren'].isna()]"
   ]
  },
  {
   "cell_type": "code",
   "execution_count": null,
   "metadata": {},
   "outputs": [],
   "source": [
    "df_reanimatie['TmDatum'].unique().tolist()[:5]"
   ]
  },
  {
   "cell_type": "markdown",
   "metadata": {
    "tags": []
   },
   "source": [
    "### Extra"
   ]
  },
  {
   "cell_type": "code",
   "execution_count": null,
   "metadata": {},
   "outputs": [],
   "source": [
    "print(df_reanimatie.head(5))\n",
    "print(\"\\n\\n\")\n",
    "print(df_reanimatie.VanafDatum.unique())\n",
    "print(\"\\n\\n\")\n",
    "print(df_reanimatie.info())\n",
    "print(\"\\n\\n\")\n",
    "print(df_reanimatie.describe())\n",
    "print(\"\\n\\n\")\n",
    "print('Data`s Shape: ', df_reanimatie.shape)\n",
    "print(\"\\n\\n\")\n",
    "print('\\nType of features \\n', df_reanimatie.dtypes.value_counts())\n",
    "print(\"\\n\\n\")\n",
    "isna_series = df_reanimatie.isna().sum()\n",
    "print('\\nNull columns and numbers:\\n ', isna_series[isna_series > 0].sort_values(ascending=False))"
   ]
  },
  {
   "cell_type": "markdown",
   "metadata": {
    "tags": []
   },
   "source": [
    "### Per column, meaning of values (and how to handle missing values?)"
   ]
  },
  {
   "cell_type": "markdown",
   "metadata": {
    "tags": []
   },
   "source": [
    "Q: meaning?"
   ]
  },
  {
   "cell_type": "code",
   "execution_count": null,
   "metadata": {},
   "outputs": [],
   "source": [
    "unique = df_reanimatie.groupby(['Gekozen_beleid', 'Reanimeren', 'Care_order']).size().reset_index(name='Counts')\n",
    "unique"
   ]
  },
  {
   "cell_type": "markdown",
   "metadata": {
    "tags": []
   },
   "source": [
    "## Lab"
   ]
  },
  {
   "cell_type": "markdown",
   "metadata": {
    "tags": []
   },
   "source": [
    "### Verification for interesting parts based on the report"
   ]
  },
  {
   "cell_type": "markdown",
   "metadata": {
    "tags": []
   },
   "source": [
    "Q: BepalingCode what's this   \n",
    "Q: GroepOms what's this distinction?   \n",
    "Q: GlimsCode what's this   \n",
    "Q: Uitslag what's this. It's not just number.   \n",
    "Q: Labdatumtijd, is it when they started testing things?   "
   ]
  },
  {
   "cell_type": "code",
   "execution_count": null,
   "metadata": {},
   "outputs": [],
   "source": [
    "df_lab['BepalingCode'].value_counts()"
   ]
  },
  {
   "cell_type": "code",
   "execution_count": null,
   "metadata": {},
   "outputs": [],
   "source": [
    "df_lab['GroepOms'].value_counts()"
   ]
  },
  {
   "cell_type": "code",
   "execution_count": null,
   "metadata": {},
   "outputs": [],
   "source": [
    "df_lab['GlimsCode'].value_counts()"
   ]
  },
  {
   "cell_type": "code",
   "execution_count": null,
   "metadata": {},
   "outputs": [],
   "source": [
    "df_lab['Uitslag'].value_counts()"
   ]
  },
  {
   "cell_type": "code",
   "execution_count": null,
   "metadata": {},
   "outputs": [],
   "source": [
    "df_lab['Labdatumtijd'].value_counts()"
   ]
  },
  {
   "cell_type": "markdown",
   "metadata": {
    "tags": []
   },
   "source": [
    "### Extra"
   ]
  },
  {
   "cell_type": "code",
   "execution_count": null,
   "metadata": {},
   "outputs": [],
   "source": [
    "print(df_lab.head(5))\n",
    "print(\"\\n\\n\")\n",
    "print(df_lab.GlimsCode.unique())\n",
    "print(\"\\n\\n\")\n",
    "print(df_lab.info())\n",
    "print(\"\\n\\n\")\n",
    "print(df_lab.describe())\n",
    "print(\"\\n\\n\")\n",
    "print('Data`s Shape: ', df_lab.shape)\n",
    "print(\"\\n\\n\")\n",
    "print('\\nType of features \\n', df_lab.dtypes.value_counts())\n",
    "print(\"\\n\\n\")\n",
    "isna_series = df_lab.isna().sum()\n",
    "print('\\nNull columns and numbers:\\n ', isna_series[isna_series > 0].sort_values(ascending=False))"
   ]
  },
  {
   "cell_type": "markdown",
   "metadata": {
    "tags": []
   },
   "source": [
    "### Per column, meaning of values (and how to handle missing values?)"
   ]
  },
  {
   "cell_type": "markdown",
   "metadata": {
    "tags": []
   },
   "source": [
    "Q: meaning?"
   ]
  },
  {
   "cell_type": "code",
   "execution_count": null,
   "metadata": {},
   "outputs": [],
   "source": [
    "unique = df_lab.groupby(['BepalingCode', 'BepalingOms', 'GroepOms', 'GlimsCode']).size().reset_index(name='Counts')\n",
    "unique"
   ]
  },
  {
   "cell_type": "markdown",
   "metadata": {
    "tags": []
   },
   "source": [
    "Q: Empty eendheid. What should I do? "
   ]
  },
  {
   "cell_type": "code",
   "execution_count": null,
   "metadata": {},
   "outputs": [],
   "source": [
    "df_lab['Eenheid'].value_counts()"
   ]
  },
  {
   "cell_type": "code",
   "execution_count": null,
   "metadata": {},
   "outputs": [],
   "source": [
    "df_lab['Uitslag'].value_counts()[:5]"
   ]
  },
  {
   "cell_type": "code",
   "execution_count": null,
   "metadata": {},
   "outputs": [],
   "source": [
    "unique = df_lab.groupby(['Eenheid', 'Uitslag']).size().reset_index(name='Counts')[:100]\n",
    "unique"
   ]
  },
  {
   "cell_type": "markdown",
   "metadata": {
    "tags": []
   },
   "source": [
    "## IC_Opnames"
   ]
  },
  {
   "cell_type": "markdown",
   "metadata": {
    "tags": []
   },
   "source": [
    "Q: Is opnameID here different from other dataframes, as it is IC and others are general wards?    \n",
    "Q: Ontslag to general ward? Or home?   \n",
    "Q: SpecialismeCode. What's this?   \n",
    "Q: AfdelingCode?   "
   ]
  },
  {
   "cell_type": "code",
   "execution_count": null,
   "metadata": {},
   "outputs": [],
   "source": [
    "df_ic['SpecialismeCode'].value_counts()"
   ]
  },
  {
   "cell_type": "code",
   "execution_count": null,
   "metadata": {},
   "outputs": [],
   "source": [
    "df_ic['AfdelingCode'].value_counts()"
   ]
  },
  {
   "cell_type": "markdown",
   "metadata": {
    "tags": []
   },
   "source": [
    "### Extra"
   ]
  },
  {
   "cell_type": "code",
   "execution_count": null,
   "metadata": {},
   "outputs": [],
   "source": [
    "print(df_ic.head(5))\n",
    "print(\"\\n\\n\")\n",
    "print(df_ic.SpecialismeCode.unique())\n",
    "print(\"\\n\\n\")\n",
    "print(df_ic.info())\n",
    "print(\"\\n\\n\")\n",
    "print(df_ic.describe())\n",
    "print(\"\\n\\n\")\n",
    "print('Data`s Shape: ', df_ic.shape)\n",
    "print(\"\\n\\n\")\n",
    "print('\\nType of features \\n', df_ic.dtypes.value_counts())\n",
    "print(\"\\n\\n\")\n",
    "isna_series = df_ic.isna().sum()\n",
    "print('\\nNull columns and numbers:\\n ', isna_series[isna_series > 0].sort_values(ascending=False))"
   ]
  },
  {
   "cell_type": "markdown",
   "metadata": {
    "tags": []
   },
   "source": [
    "### Per column, meaning of values (and how to handle missing values?)"
   ]
  },
  {
   "cell_type": "markdown",
   "metadata": {
    "tags": []
   },
   "source": [
    "Q: Meaning?"
   ]
  },
  {
   "cell_type": "code",
   "execution_count": null,
   "metadata": {},
   "outputs": [],
   "source": [
    "unique = df_ic.groupby(['SpecialismeCode', 'AfdelingCode']).size().reset_index(name='Counts')\n",
    "unique"
   ]
  },
  {
   "cell_type": "markdown",
   "metadata": {
    "tags": []
   },
   "source": [
    "## Demographics"
   ]
  },
  {
   "cell_type": "markdown",
   "metadata": {
    "tags": []
   },
   "source": [
    "### Verification for interesting parts based on the report"
   ]
  },
  {
   "cell_type": "markdown",
   "metadata": {
    "tags": []
   },
   "source": [
    "Q: OverlijdensDatum missing means still alive? Or don't know?     \n",
    "\n",
    "Q: Is OpnameDatumTijd the same as the one from other dataframe? (e.g. ic_opnames)   \n",
    "A: Ofc not. Because IC_opnames is only for people who've been to IC. Demographics include general wards.   \n",
    "\n",
    "Q: Does OntslagDatumTijd missing means death? Why minimum is weird. Why there's a missing?   \n",
    "Q: What's SpecialismeCode?   \n",
    "Q: Spoed (n: nee, j: ja)   \n",
    "Q: What's OpnameTypeOms?   "
   ]
  },
  {
   "cell_type": "code",
   "execution_count": null,
   "metadata": {},
   "outputs": [],
   "source": [
    "df_demo.loc[df_demo['OverlijdensDatum'].isna()][:5]"
   ]
  },
  {
   "cell_type": "code",
   "execution_count": null,
   "metadata": {},
   "outputs": [],
   "source": [
    "df_demo['OpnameDatumTijd'].nunique()"
   ]
  },
  {
   "cell_type": "code",
   "execution_count": null,
   "metadata": {},
   "outputs": [],
   "source": [
    "df_ic['OpnameDatumTijd'].nunique()"
   ]
  },
  {
   "cell_type": "code",
   "execution_count": null,
   "metadata": {},
   "outputs": [],
   "source": [
    "df_demo.loc[df_demo['OntslagDatumTijd'].isna()]"
   ]
  },
  {
   "cell_type": "code",
   "execution_count": null,
   "metadata": {},
   "outputs": [],
   "source": [
    "df_demo['OntslagDatumTijd'].min()"
   ]
  },
  {
   "cell_type": "code",
   "execution_count": null,
   "metadata": {},
   "outputs": [],
   "source": [
    "min_date = df_demo['OntslagDatumTijd'].min()\n",
    "df_demo.loc[df_demo['OntslagDatumTijd'] == min_date]"
   ]
  },
  {
   "cell_type": "code",
   "execution_count": null,
   "metadata": {},
   "outputs": [],
   "source": [
    "df_demo['SpecialismeCode'].value_counts()"
   ]
  },
  {
   "cell_type": "code",
   "execution_count": null,
   "metadata": {},
   "outputs": [],
   "source": [
    "df_demo['OpnameTypeOms'].value_counts()"
   ]
  },
  {
   "cell_type": "markdown",
   "metadata": {
    "tags": []
   },
   "source": [
    "### Extra"
   ]
  },
  {
   "cell_type": "code",
   "execution_count": null,
   "metadata": {},
   "outputs": [],
   "source": [
    "print(df_demo.head(5))\n",
    "print(\"\\n\\n\")\n",
    "print(df_demo.SpecialismeCode.unique())\n",
    "print(\"\\n\\n\")\n",
    "print(df_demo.info())\n",
    "print(\"\\n\\n\")\n",
    "print(df_demo.describe())\n",
    "print(\"\\n\\n\")\n",
    "print('Data`s Shape: ', df_demo.shape)\n",
    "print(\"\\n\\n\")\n",
    "print('\\nType of features \\n', df_demo.dtypes.value_counts())\n",
    "print(\"\\n\\n\")\n",
    "isna_series = df_ic.isna().sum()\n",
    "print('\\nNull columns and numbers:\\n ', isna_series[isna_series > 0].sort_values(ascending=False))"
   ]
  },
  {
   "cell_type": "code",
   "execution_count": null,
   "metadata": {},
   "outputs": [],
   "source": [
    "leeftijd_per_specialismecode = df_demo.groupby('SpecialismeCode')['Leeftijd'].agg(['mean', 'median', 'std', 'count'])\n",
    "leeftijd_per_specialismecode"
   ]
  },
  {
   "cell_type": "markdown",
   "metadata": {
    "tags": []
   },
   "source": [
    "### Per column, meaning of values (and how to handle missing values?)"
   ]
  },
  {
   "cell_type": "markdown",
   "metadata": {
    "tags": []
   },
   "source": [
    "Q: Meaning?   \n",
    "\n",
    "Just a thought: There are more women in early ages due to birth maybe? "
   ]
  },
  {
   "cell_type": "code",
   "execution_count": null,
   "metadata": {},
   "outputs": [],
   "source": [
    "unique = df_demo.groupby(['Geslacht', 'Leeftijd']).size().reset_index(name='Counts')\n",
    "plt.figure(figsize=(18, 6))\n",
    "sns.barplot(data=unique, x='Leeftijd', y='Counts', hue='Geslacht')\n",
    "plt.title('Counts of Unique Combis of Geslacht and Leeftijd')\n",
    "plt.xlabel('Leeftijd')\n",
    "plt.ylabel('Counts')\n",
    "plt.legend(title='Counts')\n",
    "plt.tight_layout()\n",
    "plt.show()"
   ]
  },
  {
   "cell_type": "code",
   "execution_count": null,
   "metadata": {},
   "outputs": [],
   "source": [
    "unique = df_demo.groupby(['SpecialismeCode', 'Spoed', 'OpnameTypeOms']).size().reset_index(name='Counts')\n",
    "unique"
   ]
  },
  {
   "cell_type": "code",
   "execution_count": null,
   "metadata": {},
   "outputs": [],
   "source": [
    "# check patients who passed away based on age\n",
    "df_demo_f = df_demo[df_demo['OverlijdensDatum'].notna()]\n",
    "unique = df_demo_f.groupby(['Leeftijd']).size().reset_index(name='Counts')\n",
    "unique"
   ]
  },
  {
   "cell_type": "code",
   "execution_count": null,
   "metadata": {},
   "outputs": [],
   "source": [
    "# check patients who passed away based on age and sex \n",
    "df_demo_f = df_demo[df_demo['OverlijdensDatum'].notna()]\n",
    "unique = df_demo_f.groupby(['Geslacht', 'Leeftijd']).size().reset_index(name='Counts')\n",
    "\n",
    "plt.figure(figsize=(18, 6))\n",
    "sns.barplot(data=unique, x='Leeftijd', y='Counts', hue='Geslacht')\n",
    "plt.title('Counts of Unique Combis of Dead Patients Geslacht and Leeftijd')\n",
    "plt.xlabel('Leeftijd')\n",
    "plt.ylabel('Counts')\n",
    "plt.legend(title='Geslacht')\n",
    "plt.tight_layout()\n",
    "plt.show()"
   ]
  },
  {
   "cell_type": "code",
   "execution_count": null,
   "metadata": {
    "scrolled": true
   },
   "outputs": [],
   "source": [
    "# check ages \n",
    "counts = df_demo['Leeftijd'].value_counts()\n",
    "counts.columns = ['Leeftijd', 'Counts']\n",
    "\n",
    "plt.figure(figsize=(18, 6))\n",
    "sns.barplot(data=unique, x='Leeftijd', y='Counts')\n",
    "plt.title('Counts of Ages')\n",
    "plt.xlabel('Leeftijd')\n",
    "plt.ylabel('Counts')\n",
    "plt.tight_layout()\n",
    "plt.show()"
   ]
  },
  {
   "cell_type": "code",
   "execution_count": null,
   "metadata": {},
   "outputs": [],
   "source": []
  }
 ],
 "metadata": {
  "kernelspec": {
   "display_name": "Python 3.10.9 64-bit",
   "language": "python",
   "name": "python3"
  },
  "kubeflow_notebook": {
   "autosnapshot": false,
   "docker_image": "",
   "experiment": {
    "id": "",
    "name": ""
   },
   "experiment_name": "",
   "katib_run": false,
   "pipeline_description": "",
   "pipeline_name": "",
   "snapshot_volumes": false,
   "steps_defaults": [],
   "volume_access_mode": "rwm",
   "volumes": []
  },
  "language_info": {
   "codemirror_mode": {
    "name": "ipython",
    "version": 3
   },
   "file_extension": ".py",
   "mimetype": "text/x-python",
   "name": "python",
   "nbconvert_exporter": "python",
   "pygments_lexer": "ipython3",
   "version": "3.10.9"
  },
  "vscode": {
   "interpreter": {
    "hash": "fce4fb90388deaf1bd48d5cd0085ba64bba4d4518b6644dfe47737140f7fef1b"
   }
  }
 },
 "nbformat": 4,
 "nbformat_minor": 4
}
